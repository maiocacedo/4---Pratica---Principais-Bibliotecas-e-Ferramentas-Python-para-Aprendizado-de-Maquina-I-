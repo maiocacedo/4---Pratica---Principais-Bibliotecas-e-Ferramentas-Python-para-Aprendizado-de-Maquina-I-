{
 "cells": [
  {
   "cell_type": "code",
   "execution_count": 1,
   "id": "d53f040a-3be7-46e5-b5b8-2b1ada217333",
   "metadata": {},
   "outputs": [],
   "source": [
    "import numpy as np\n",
    "import pandas as pd"
   ]
  },
  {
   "cell_type": "code",
   "execution_count": 2,
   "id": "3ac07f56-9b54-4180-91ee-283b8f21769f",
   "metadata": {},
   "outputs": [],
   "source": [
    "labels = ['a', 'b', 'c']"
   ]
  },
  {
   "cell_type": "code",
   "execution_count": 3,
   "id": "221bec11-13f4-44c3-82a2-d0e2ac9dd827",
   "metadata": {},
   "outputs": [],
   "source": [
    "minha_lista = [10, 20, 30]"
   ]
  },
  {
   "cell_type": "code",
   "execution_count": 4,
   "id": "02df84a6-eb3b-44fc-bc4e-14e1d4c4565f",
   "metadata": {},
   "outputs": [],
   "source": [
    "arr = np.array([10, 20, 30])"
   ]
  },
  {
   "cell_type": "code",
   "execution_count": 5,
   "id": "53319fa8-0704-4935-9b5d-eed255b1a2c9",
   "metadata": {},
   "outputs": [],
   "source": [
    "d = {'a':10, 'b': 20, 'c':30}"
   ]
  },
  {
   "cell_type": "code",
   "execution_count": 6,
   "id": "a25126c8-558e-4cb5-b5e0-0ae0ee4530a1",
   "metadata": {},
   "outputs": [
    {
     "data": {
      "text/plain": [
       "a    10\n",
       "b    20\n",
       "c    30\n",
       "dtype: int64"
      ]
     },
     "execution_count": 6,
     "metadata": {},
     "output_type": "execute_result"
    }
   ],
   "source": [
    "pd.Series(data=minha_lista, index=labels)"
   ]
  },
  {
   "cell_type": "code",
   "execution_count": 8,
   "id": "d15d85ff-5879-4a04-a629-36eb933b2c04",
   "metadata": {},
   "outputs": [],
   "source": [
    "series = pd.Series(data=minha_lista, index=labels)"
   ]
  },
  {
   "cell_type": "code",
   "execution_count": 9,
   "id": "97bc1669-64c2-437a-a0b2-25aaa65d7d23",
   "metadata": {},
   "outputs": [
    {
     "data": {
      "text/plain": [
       "20"
      ]
     },
     "execution_count": 9,
     "metadata": {},
     "output_type": "execute_result"
    }
   ],
   "source": [
    "series['b']"
   ]
  },
  {
   "cell_type": "code",
   "execution_count": 12,
   "id": "799abc90-840f-43cc-bf5e-6215ddd6e7dd",
   "metadata": {},
   "outputs": [
    {
     "data": {
      "text/plain": [
       "a    10\n",
       "b    20\n",
       "c    30\n",
       "dtype: int64"
      ]
     },
     "execution_count": 12,
     "metadata": {},
     "output_type": "execute_result"
    }
   ],
   "source": [
    "pd.Series(minha_lista, labels)"
   ]
  },
  {
   "cell_type": "code",
   "execution_count": 13,
   "id": "7f6d3e65-a078-41c6-9ba8-8526a4580025",
   "metadata": {},
   "outputs": [
    {
     "data": {
      "text/plain": [
       "a    10\n",
       "b    20\n",
       "c    30\n",
       "dtype: int32"
      ]
     },
     "execution_count": 13,
     "metadata": {},
     "output_type": "execute_result"
    }
   ],
   "source": [
    "pd.Series(arr, labels)"
   ]
  },
  {
   "cell_type": "code",
   "execution_count": 15,
   "id": "4bc30fca-b94f-423c-a3ec-242d513162ec",
   "metadata": {},
   "outputs": [],
   "source": [
    "ser1 = pd.Series([1, 2, 3, 4], index=['EUA', 'Alemanha', 'URSS', 'Japão'])"
   ]
  },
  {
   "cell_type": "code",
   "execution_count": 17,
   "id": "6d623ffe-ad32-417f-8b23-a0681bf2dcf3",
   "metadata": {},
   "outputs": [
    {
     "data": {
      "text/plain": [
       "EUA         1\n",
       "Alemanha    2\n",
       "URSS        3\n",
       "Japão       4\n",
       "dtype: int64"
      ]
     },
     "execution_count": 17,
     "metadata": {},
     "output_type": "execute_result"
    }
   ],
   "source": [
    "ser1"
   ]
  },
  {
   "cell_type": "code",
   "execution_count": 19,
   "id": "7279789f-17f6-4e44-ae48-c9db6b149467",
   "metadata": {},
   "outputs": [],
   "source": [
    "ser2 = pd.Series([1, 2, 3, 4], index=['EUA', 'Alemanha', 'Itália', 'Japão'])"
   ]
  },
  {
   "cell_type": "code",
   "execution_count": 20,
   "id": "dc918fb8-9eac-4be7-8894-9e37bfda5328",
   "metadata": {},
   "outputs": [
    {
     "data": {
      "text/plain": [
       "EUA         1\n",
       "Alemanha    2\n",
       "Itália      3\n",
       "Japão       4\n",
       "dtype: int64"
      ]
     },
     "execution_count": 20,
     "metadata": {},
     "output_type": "execute_result"
    }
   ],
   "source": [
    "ser2"
   ]
  },
  {
   "cell_type": "code",
   "execution_count": 21,
   "id": "bd14428c-9888-4021-8d0f-68696ea9dfb9",
   "metadata": {},
   "outputs": [
    {
     "data": {
      "text/plain": [
       "Alemanha    4.0\n",
       "EUA         2.0\n",
       "Itália      NaN\n",
       "Japão       8.0\n",
       "URSS        NaN\n",
       "dtype: float64"
      ]
     },
     "execution_count": 21,
     "metadata": {},
     "output_type": "execute_result"
    }
   ],
   "source": [
    "ser1 + ser2"
   ]
  },
  {
   "cell_type": "code",
   "execution_count": null,
   "id": "8ac2f35c-0e02-40e7-8012-90ac756feacb",
   "metadata": {},
   "outputs": [],
   "source": []
  }
 ],
 "metadata": {
  "kernelspec": {
   "display_name": "Python 3 (ipykernel)",
   "language": "python",
   "name": "python3"
  },
  "language_info": {
   "codemirror_mode": {
    "name": "ipython",
    "version": 3
   },
   "file_extension": ".py",
   "mimetype": "text/x-python",
   "name": "python",
   "nbconvert_exporter": "python",
   "pygments_lexer": "ipython3",
   "version": "3.12.4"
  }
 },
 "nbformat": 4,
 "nbformat_minor": 5
}
